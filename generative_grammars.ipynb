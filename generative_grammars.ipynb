{
  "cells": [
    {
      "cell_type": "markdown",
      "metadata": {
        "id": "pTenOYp3UhUS"
      },
      "source": [
        "<a href=\"https://colab.research.google.com/github/IAT-ComputationalCreativity-Spring2025/Week3-Rule-Based-Systems/blob/main/generative_grammars.ipynb\" target=\"_parent\"><img src=\"https://colab.research.google.com/assets/colab-badge.svg\" alt=\"Open In Colab\"/></a>"
      ]
    },
    {
      "cell_type": "markdown",
      "metadata": {
        "id": "ewVpi_X-UhUU"
      },
      "source": [
        "# Generative Grammars Lab Exercise\n",
        "\n",
        "This notebook introduces context-free grammars and their implementation in Python\n",
        "for generating natural language sentences."
      ]
    },
    {
      "cell_type": "markdown",
      "metadata": {
        "id": "wztQisrLUhUU"
      },
      "source": [
        "## Introduction to Generative Grammars\n",
        "\n",
        "A context-free grammar consists of:\n",
        "- **Terminal symbols**: Words that appear in the final output (e.g., \"cat\", \"dog\")\n",
        "- **Non-terminal symbols**: Placeholders that get replaced by other symbols (e.g., NP, VP)\n",
        "- **Production rules**: Rules that define how non-terminals can be replaced\n",
        "\n",
        "For example:\n",
        "- S → NP VP (A sentence consists of a noun phrase followed by a verb phrase)\n",
        "- NP → Det N (A noun phrase consists of a determiner followed by a noun)\n",
        "- VP → V (A verb phrase can be just a verb)"
      ]
    },
    {
      "cell_type": "code",
      "execution_count": 1,
      "metadata": {
        "id": "OElk8atQUhUV"
      },
      "outputs": [],
      "source": [
        "import random\n",
        "\n",
        "# Define our basic grammar\n",
        "basic_grammar = {\n",
        "    'S': [['NP', 'VP']],\n",
        "    'NP': [['Det', 'N'], ['Det', 'Adj', 'N']],\n",
        "    'VP': [['V', 'NP'], ['V']],\n",
        "    'Det': ['the', 'a', 'my'],\n",
        "    'N': ['cat', 'dog', 'robot', 'programmer'],\n",
        "    'V': ['sleeps', 'jumps', 'codes', 'runs'],\n",
        "    'Adj': ['quick', 'lazy', 'clever', 'brave']\n",
        "}\n",
        "\n",
        "def generate(symbol, grammar):\n",
        "    \"\"\"\n",
        "    Recursively generate a string from the grammar starting with the given symbol.\n",
        "\n",
        "    Args:\n",
        "        symbol: The symbol to start generating from\n",
        "\n",
        "    Returns:\n",
        "        A string generated from the grammar rules\n",
        "    \"\"\"\n",
        "    if isinstance(symbol, str) and symbol in grammar:\n",
        "        production = random.choice(grammar[symbol])\n",
        "        if isinstance(production, list):\n",
        "            return ' '.join(generate(sym, grammar) for sym in production)\n",
        "        return production\n",
        "    return symbol"
      ]
    },
    {
      "cell_type": "markdown",
      "metadata": {
        "id": "uA1Er6WKUhUW"
      },
      "source": [
        "## Basic Sentence Generation\n",
        "\n",
        "Let's generate some basic sentences using our grammar:"
      ]
    },
    {
      "cell_type": "code",
      "execution_count": 2,
      "metadata": {
        "colab": {
          "base_uri": "https://localhost:8080/"
        },
        "id": "NVcf6q25UhUW",
        "outputId": "70cdd721-62ab-43ab-985a-ff38c914d214"
      },
      "outputs": [
        {
          "output_type": "stream",
          "name": "stdout",
          "text": [
            "Generated sentences:\n",
            "\n",
            "1. my lazy programmer codes my programmer\n",
            "2. a dog codes\n",
            "3. the clever programmer runs a lazy programmer\n",
            "4. my cat runs my programmer\n",
            "5. the clever programmer jumps\n"
          ]
        }
      ],
      "source": [
        "print(\"Generated sentences:\\n\")\n",
        "for i in range(5):\n",
        "    print(f\"{i+1}. {generate('S', basic_grammar)}\")"
      ]
    },
    {
      "cell_type": "markdown",
      "metadata": {
        "id": "6ejKIN_kUhUW"
      },
      "source": [
        "## Exercise 1: Expanding the Grammar\n",
        "\n",
        "Now it's your turn! Modify the grammar to include:\n",
        "- More nouns\n",
        "- More adjectives\n",
        "- More verbs\n",
        "\n",
        "Try adding these categories:\n"
      ]
    },
    {
      "cell_type": "code",
      "execution_count": 7,
      "metadata": {
        "id": "5WMpHlXLUhUW"
      },
      "outputs": [],
      "source": [
        "# Create an expanded grammar\n",
        "expanded_grammar = basic_grammar.copy()  # Start with our original grammar\n",
        "\n",
        "# Add more words to existing categories\n",
        "# i.e. expanded_grammar['N'].extend(['apple', 'orange'])\n",
        "expanded_grammar['N'].extend(['Wilson','Via'])\n",
        "expanded_grammar['V'].extend(['love','like','live'])\n",
        "expanded_grammar['Adj'].extend(['beautiful','handsome'])\n",
        "expanded_grammar['Det'].extend(['an','your'])"
      ]
    },
    {
      "cell_type": "code",
      "execution_count": 8,
      "metadata": {
        "colab": {
          "base_uri": "https://localhost:8080/"
        },
        "id": "JaaXar46UhUW",
        "outputId": "d33ae0db-0c3b-47cc-a6df-d37e33a6313f"
      },
      "outputs": [
        {
          "output_type": "stream",
          "name": "stdout",
          "text": [
            "Generated sentences with expanded vocabulary:\n",
            "\n",
            "1. an dog codes\n",
            "2. the quick cat love\n",
            "3. a dog sleeps\n",
            "4. your beautiful Wilson love an programmer\n",
            "5. your quick programmer jumps the cat\n"
          ]
        }
      ],
      "source": [
        "# Try the expanded grammar\n",
        "print(\"Generated sentences with expanded vocabulary:\\n\")\n",
        "for i in range(5):\n",
        "    print(f\"{i+1}. {generate('S', expanded_grammar)}\")"
      ]
    },
    {
      "cell_type": "markdown",
      "metadata": {
        "id": "3QeTrrI4UhUX"
      },
      "source": [
        "## Exercise 2: Adding Questions\n",
        "\n",
        "Let's modify the grammar to generate questions. We'll need:\n",
        "- Question words (who, what, where, etc.)\n",
        "- New production rules for question structure\n",
        "- Appropriate verb forms"
      ]
    },
    {
      "cell_type": "code",
      "execution_count": 19,
      "metadata": {
        "id": "18FagLRcUhUX"
      },
      "outputs": [],
      "source": [
        "# Create a grammar with questions\n",
        "question_grammar = expanded_grammar.copy()\n",
        "\n",
        "# Question-related rules\n",
        "question_grammar['S'].append(['Q'])  # Add question as possible sentence type\n",
        "# Create some question structures and words here\n",
        "question_grammar['Q'] = [['QW', 'NP', 'VP'], ['QW','VP']]  # Question structures\n",
        "question_grammar['QW'] = ['what', 'who', 'where', 'when', 'why', 'how']  # Question words"
      ]
    },
    {
      "cell_type": "code",
      "execution_count": 21,
      "metadata": {
        "colab": {
          "base_uri": "https://localhost:8080/"
        },
        "id": "PRqaAXNUUhUX",
        "outputId": "4f49ab66-063b-4137-e09b-aad9bc5861bf"
      },
      "outputs": [
        {
          "output_type": "stream",
          "name": "stdout",
          "text": [
            "Generated questions:\n",
            "\n",
            "1. what an cat jumps your handsome Via?\n",
            "2. how the beautiful dog live the handsome programmer?\n",
            "3. how sleeps my brave Via?\n",
            "4. who a beautiful programmer sleeps?\n",
            "5. how an brave programmer jumps?\n"
          ]
        }
      ],
      "source": [
        "print(\"Generated questions:\\n\")\n",
        "for i in range(5):\n",
        "    print(f\"{i+1}. {generate('Q', question_grammar)}?\")"
      ]
    },
    {
      "cell_type": "markdown",
      "metadata": {
        "id": "cgaK21QuUhUX"
      },
      "source": [
        "## Challenge: Poetry Generation\n",
        "\n",
        "Create a grammar that generates simple poetry. Consider:\n",
        "- Line structures\n",
        "- Rhyming words\n",
        "- Poetic phrases"
      ]
    },
    {
      "cell_type": "code",
      "execution_count": 22,
      "metadata": {
        "id": "a33o7IC9UhUX"
      },
      "outputs": [],
      "source": [
        "# Define a poetry-specific grammar\n",
        "poetry_grammar = {\n",
        "    'POEM': [['LINE', 'LINE', 'LINE', 'LINE']],  # Four-line poem\n",
        "    'LINE': [['PHRASE', 'PHRASE']],  # Two phrases per line\n",
        "    'PHRASE': [['ADJ', 'N', 'V', 'ADV'], ['ADJ', 'N', 'V']],  # Phrase structure\n",
        "    'ADJ': ['silent', 'gentle', 'misty', 'golden', 'dreamy', 'soft'],\n",
        "    'N': ['moon', 'wind', 'river', 'mountain', 'dream', 'sky'],\n",
        "    'V': ['whispers', 'dances', 'flows', 'glides', 'sings', 'sleeps'],\n",
        "    'ADV': ['slowly', 'sweetly', 'gently', 'quietly', 'peacefully']\n",
        "}\n",
        "\n",
        "def generate_poem(symbol='POEM'):\n",
        "    \"\"\"\n",
        "    Generate a poem using our poetry grammar\n",
        "    \"\"\"\n",
        "    if isinstance(symbol, str) and symbol in poetry_grammar:\n",
        "        production = random.choice(poetry_grammar[symbol])\n",
        "        if isinstance(production, list):\n",
        "            result = [generate_poem(sym) for sym in production]\n",
        "            if symbol == 'LINE':\n",
        "                return ' '.join(result) + '\\n'\n",
        "            return ' '.join(result)\n",
        "        return production\n",
        "\n",
        "    return symbol + ' '"
      ]
    },
    {
      "cell_type": "code",
      "execution_count": 23,
      "metadata": {
        "colab": {
          "base_uri": "https://localhost:8080/"
        },
        "id": "KRtE-PWWUhUX",
        "outputId": "ac37936b-f165-442f-b923-d148dbe3e832"
      },
      "outputs": [
        {
          "output_type": "stream",
          "name": "stdout",
          "text": [
            "Generated poem:\n",
            "\n",
            "silent sky dances silent moon flows\n",
            " dreamy moon dances soft mountain whispers peacefully\n",
            " dreamy sky flows quietly golden river sings sweetly\n",
            " dreamy river dances dreamy moon glides sweetly\n",
            "\n"
          ]
        }
      ],
      "source": [
        "print(\"Generated poem:\\n\")\n",
        "print(generate_poem())"
      ]
    },
    {
      "cell_type": "markdown",
      "metadata": {
        "id": "GZsAfzZUUhUX"
      },
      "source": [
        "## Exercises for Practice\n",
        "\n",
        "1. Try adding different types of sentence structures to the basic grammar\n",
        "2. Create themed vocabularies (e.g., science fiction, fantasy, nature)\n",
        "3. Modify the poetry generator to create different verse structures\n",
        "4. Add rhyming capabilities to the poetry generator\n",
        "5. Implement a grammar for generating specific types of text (e.g., news headlines, weather reports)\n",
        "\n",
        "Remember: The beauty of generative grammars lies in their ability to create infinite variations from a finite set of rules!"
      ]
    }
  ],
  "metadata": {
    "kernelspec": {
      "display_name": "Python 3",
      "name": "python3"
    },
    "language_info": {
      "codemirror_mode": {
        "name": "ipython",
        "version": 3
      },
      "file_extension": ".py",
      "mimetype": "text/x-python",
      "name": "python",
      "nbconvert_exporter": "python",
      "pygments_lexer": "ipython3",
      "version": "3.9.21"
    },
    "colab": {
      "provenance": [],
      "gpuType": "L4"
    },
    "accelerator": "GPU"
  },
  "nbformat": 4,
  "nbformat_minor": 0
}