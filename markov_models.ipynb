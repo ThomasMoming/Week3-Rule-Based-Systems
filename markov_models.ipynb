{
  "cells": [
    {
      "cell_type": "markdown",
      "metadata": {
        "id": "3-p6C836efaw"
      },
      "source": [
        "<a href=\"https://colab.research.google.com/github/IAT-ComputationalCreativity-Spring2025/Week3-Rule-Based-Systems/blob/main/markov_models.ipynb\" target=\"_parent\"><img src=\"https://colab.research.google.com/assets/colab-badge.svg\" alt=\"Open In Colab\"/></a>"
      ]
    },
    {
      "cell_type": "markdown",
      "metadata": {
        "id": "3Pwz52VBefay"
      },
      "source": [
        "# Markov Models Text Generation\n",
        "\n",
        "This notebook introduces Markov chains for text generation. We'll build a simple\n",
        "text generator that learns patterns from input text and generates new text with\n",
        "similar statistical properties."
      ]
    },
    {
      "cell_type": "code",
      "execution_count": 1,
      "metadata": {
        "id": "Yl4oszInefaz"
      },
      "outputs": [],
      "source": [
        "# First, let's import our required libraries\n",
        "from collections import defaultdict\n",
        "import random"
      ]
    },
    {
      "cell_type": "markdown",
      "metadata": {
        "id": "buoA_dH2efaz"
      },
      "source": [
        "## Building the Markov Chain\n",
        "\n",
        "A Markov chain represents sequences of states where the probability of each state\n",
        "depends only on the previous state(s). In our case, each state will be a sequence\n",
        "of words, and we'll predict the next word based on this sequence."
      ]
    },
    {
      "cell_type": "code",
      "execution_count": 2,
      "metadata": {
        "id": "Dm5OS2h9efa0"
      },
      "outputs": [],
      "source": [
        "def build_markov_chain(text, order=2):\n",
        "    \"\"\"\n",
        "    Build a Markov chain from input text.\n",
        "\n",
        "    Args:\n",
        "        text (str): Input text to learn from\n",
        "        order (int): Number of words to use as state (context)\n",
        "\n",
        "    Returns:\n",
        "        dict: Mapping from state tuples to lists of possible next words\n",
        "    \"\"\"\n",
        "    chain = defaultdict(list)\n",
        "    words = text.split()\n",
        "\n",
        "    for i in range(len(words) - order):\n",
        "        # Create state tuple from current words\n",
        "        state = tuple(words[i:i+order])\n",
        "        # Get the next word\n",
        "        next_word = words[i+order]\n",
        "        # Add to chain\n",
        "        chain[state].append(next_word)\n",
        "\n",
        "    return chain"
      ]
    },
    {
      "cell_type": "markdown",
      "metadata": {
        "id": "6YY88gPjefa0"
      },
      "source": [
        "## Generating Text\n",
        "\n",
        "Now we'll use our Markov chain to generate new text. We'll randomly select from\n",
        "the possible next words at each step."
      ]
    },
    {
      "cell_type": "code",
      "execution_count": 3,
      "metadata": {
        "id": "X-wTgHL0efa0"
      },
      "outputs": [],
      "source": [
        "def generate_text(chain, num_words=30):\n",
        "    \"\"\"\n",
        "    Generate new text using the Markov chain.\n",
        "\n",
        "    Args:\n",
        "        chain (dict): Markov chain mapping states to possible next words\n",
        "        order (int): Length of state tuples\n",
        "        num_words (int): Number of words to generate\n",
        "\n",
        "    Returns:\n",
        "        str: Generated text\n",
        "    \"\"\"\n",
        "    # Start with a random state from the chain\n",
        "    words = list(random.choice(list(chain.keys())))\n",
        "    order = len(list(chain.keys())[0])\n",
        "\n",
        "    for _ in range(num_words - order):\n",
        "        state = tuple(words[-order:])\n",
        "        if state in chain:\n",
        "            next_word = random.choice(chain[state])\n",
        "            words.append(next_word)\n",
        "        else:\n",
        "            break\n",
        "\n",
        "    return ' '.join(words)"
      ]
    },
    {
      "cell_type": "markdown",
      "metadata": {
        "id": "w9_bZORMefa1"
      },
      "source": [
        "## Part 3: Basic Example\n",
        "\n",
        "Let's try our text generator with a simple example."
      ]
    },
    {
      "cell_type": "code",
      "execution_count": 14,
      "metadata": {
        "id": "91AEceiUefa1",
        "outputId": "d4a6d576-8641-469b-dbde-9214db4d0923",
        "colab": {
          "base_uri": "https://localhost:8080/"
        }
      },
      "outputs": [
        {
          "output_type": "stream",
          "name": "stdout",
          "text": [
            "He was -> ['an']\n",
            "was an -> ['old']\n",
            "an old -> ['man']\n",
            "old man -> ['who', 'was', 'come']\n",
            "man who -> ['fished']\n",
            "who fished -> ['alone']\n",
            "fished alone -> ['in']\n",
            "alone in -> ['a']\n",
            "in a -> ['skiff']\n",
            "a skiff -> ['in']\n",
            "skiff in -> ['the']\n",
            "in the -> ['Gulf']\n",
            "the Gulf -> ['Stream']\n",
            "Gulf Stream -> ['and']\n",
            "Stream and -> ['he']\n",
            "and he -> ['had', 'always']\n",
            "he had -> ['gone']\n",
            "had gone -> ['eighty-four', 'at']\n",
            "gone eighty-four -> ['days']\n",
            "eighty-four days -> ['now']\n",
            "days now -> ['without']\n",
            "now without -> ['taking']\n",
            "without taking -> ['a']\n",
            "taking a -> ['fish.']\n",
            "a fish. -> ['In']\n",
            "fish. In -> ['the']\n",
            "In the -> ['first']\n",
            "the first -> ['forty', 'week.']\n",
            "first forty -> ['days']\n",
            "forty days -> ['a', 'without']\n",
            "days a -> ['boy']\n",
            "a boy -> ['had']\n",
            "boy had -> ['been', 'gone']\n",
            "had been -> ['with']\n",
            "been with -> ['him.']\n",
            "with him. -> ['But']\n",
            "him. But -> ['after']\n",
            "But after -> ['forty']\n",
            "after forty -> ['days']\n",
            "days without -> ['a']\n",
            "without a -> ['fish']\n",
            "a fish -> ['the']\n",
            "fish the -> ['boy’s', 'first']\n",
            "the boy’s -> ['parents']\n",
            "boy’s parents -> ['had']\n",
            "parents had -> ['told']\n",
            "had told -> ['him']\n",
            "told him -> ['that']\n",
            "him that -> ['the']\n",
            "that the -> ['old']\n",
            "the old -> ['man', 'man']\n",
            "man was -> ['now']\n",
            "was now -> ['definitely']\n",
            "now definitely -> ['and']\n",
            "definitely and -> ['finally']\n",
            "and finally -> ['salao,']\n",
            "finally salao, -> ['which']\n",
            "salao, which -> ['is']\n",
            "which is -> ['the']\n",
            "is the -> ['worst']\n",
            "the worst -> ['form']\n",
            "worst form -> ['of']\n",
            "form of -> ['unlucky,']\n",
            "of unlucky, -> ['and']\n",
            "unlucky, and -> ['the']\n",
            "and the -> ['boy', 'sail']\n",
            "the boy -> ['had', 'sad']\n",
            "gone at -> ['their']\n",
            "at their -> ['orders']\n",
            "their orders -> ['in']\n",
            "orders in -> ['another']\n",
            "in another -> ['boat']\n",
            "another boat -> ['which']\n",
            "boat which -> ['caught']\n",
            "which caught -> ['three']\n",
            "caught three -> ['good']\n",
            "three good -> ['fish']\n",
            "good fish -> ['the']\n",
            "first week. -> ['It']\n",
            "week. It -> ['made']\n",
            "It made -> ['the']\n",
            "made the -> ['boy']\n",
            "boy sad -> ['to']\n",
            "sad to -> ['see']\n",
            "to see -> ['the']\n",
            "see the -> ['old']\n",
            "man come -> ['in']\n",
            "come in -> ['each']\n",
            "in each -> ['day']\n",
            "each day -> ['with']\n",
            "day with -> ['his']\n",
            "with his -> ['skiff']\n",
            "his skiff -> ['empty']\n",
            "skiff empty -> ['and']\n",
            "empty and -> ['he']\n",
            "he always -> ['went']\n",
            "always went -> ['down']\n",
            "went down -> ['to']\n",
            "down to -> ['help']\n",
            "to help -> ['him']\n",
            "help him -> ['carry']\n",
            "him carry -> ['either']\n",
            "carry either -> ['the']\n",
            "either the -> ['coiled']\n",
            "the coiled -> ['lines']\n",
            "coiled lines -> ['or']\n",
            "lines or -> ['the']\n",
            "or the -> ['gaff']\n",
            "the gaff -> ['and']\n",
            "gaff and -> ['harpoon']\n",
            "and harpoon -> ['and']\n",
            "harpoon and -> ['the']\n",
            "the sail -> ['that']\n",
            "sail that -> ['was']\n",
            "that was -> ['furled']\n",
            "was furled -> ['around']\n",
            "furled around -> ['the']\n",
            "around the -> ['mast.']\n",
            "the mast. -> ['The']\n",
            "mast. The -> ['sail']\n",
            "The sail -> ['was']\n",
            "sail was -> ['patched']\n",
            "was patched -> ['with']\n",
            "patched with -> ['flour']\n",
            "with flour -> ['sacks']\n",
            "flour sacks -> ['and,']\n",
            "sacks and, -> ['furled,']\n",
            "and, furled, -> ['it']\n",
            "furled, it -> ['looked']\n",
            "it looked -> ['like']\n",
            "looked like -> ['the']\n",
            "like the -> ['flag']\n",
            "the flag -> ['of']\n",
            "flag of -> ['permanent']\n",
            "of permanent -> ['defeat.']\n"
          ]
        }
      ],
      "source": [
        "# Sample text\n",
        "sample_text = \"\"\"\n",
        "He was an old man who fished alone in a skiff in the Gulf Stream and he had gone\n",
        "eighty-four days now without taking a fish. In the first forty days a boy had been with him.\n",
        "But after forty days without a fish the boy’s parents had told him that the old man was\n",
        "now definitely and finally salao, which is the worst form of unlucky, and the boy had gone\n",
        "at their orders in another boat which caught three good fish the first week. It made the\n",
        "boy sad to see the old man come in each day with his skiff empty and he always went\n",
        "down to help him carry either the coiled lines or the gaff and harpoon and the sail that\n",
        "was furled around the mast. The sail was patched with flour sacks and, furled, it looked\n",
        "like the flag of permanent defeat.\n",
        "\"\"\"\n",
        "\n",
        "# Build the chain\n",
        "chain = build_markov_chain(sample_text)\n",
        "\n",
        "# Examine the chain\n",
        "for state, words in chain.items():\n",
        "    print(f\"{' '.join(state)} -> {words}\")"
      ]
    },
    {
      "cell_type": "code",
      "execution_count": 15,
      "metadata": {
        "id": "YsEBmx2eefa1",
        "outputId": "2ef2286b-217e-4646-cde7-1258b1d215e1",
        "colab": {
          "base_uri": "https://localhost:8080/"
        }
      },
      "outputs": [
        {
          "output_type": "stream",
          "name": "stdout",
          "text": [
            "Generated text:\n",
            "in a skiff in the Gulf Stream and he always went down to help him carry either the coiled lines or the gaff and harpoon and the sail that was\n"
          ]
        }
      ],
      "source": [
        "# Generate some text\n",
        "print(\"Generated text:\")\n",
        "print(generate_text(chain))"
      ]
    },
    {
      "cell_type": "markdown",
      "metadata": {
        "id": "6DW8mYYfefa1"
      },
      "source": [
        "## Student Tasks\n",
        "\n",
        "1. Basic Implementation:\n",
        "   - Try changing the order parameter in build_markov_chain\n",
        "   - What happens with order=1 vs order=3?"
      ]
    },
    {
      "cell_type": "code",
      "execution_count": 25,
      "metadata": {
        "id": "sD_tzoHSefa1",
        "outputId": "13bfb39b-cb28-4782-da46-22d9f2ae8eef",
        "colab": {
          "base_uri": "https://localhost:8080/"
        }
      },
      "outputs": [
        {
          "output_type": "stream",
          "name": "stdout",
          "text": [
            "\n",
            "Order 1:\n",
            "had been with flour sacks and, furled, it looked like the mast. The sail was an old man who fished alone in another boat which caught three good fish the\n",
            "\n",
            "Order 2:\n",
            "in another boat which caught three good fish the first forty days without a fish the first forty days without a fish the first week. It made the boy had\n",
            "\n",
            "Order 3:\n",
            "that the old man come in each day with his skiff empty and he always went down to help him carry either the coiled lines or the gaff and harpoon\n"
          ]
        }
      ],
      "source": [
        "# Task 1: Experiment with different orders\n",
        "print(\"\\nOrder 1:\")\n",
        "chain1 = build_markov_chain(sample_text, order=1)\n",
        "print(generate_text(chain1))\n",
        "\n",
        "print(\"\\nOrder 2:\")\n",
        "chain2 = build_markov_chain(sample_text, order=2)\n",
        "print(generate_text(chain2))\n",
        "\n",
        "print(\"\\nOrder 3:\")\n",
        "chain3 = build_markov_chain(sample_text, order=3)\n",
        "print(generate_text(chain3))"
      ]
    },
    {
      "cell_type": "markdown",
      "metadata": {
        "id": "Ffwyd5EJefa2"
      },
      "source": [
        "2. Use Your Own Text:\n",
        "   Below, try using a different text source. You could use:\n",
        "   - Song lyrics\n",
        "   - Book excerpts\n",
        "   - Movie quotes"
      ]
    },
    {
      "cell_type": "code",
      "execution_count": 12,
      "metadata": {
        "id": "kfBZU-q2efa2"
      },
      "outputs": [],
      "source": [
        "# Task 2: Add your own text here\n",
        "your_text = \"\"\"\n",
        "[He was an old man who fished alone in a skiff in the Gulf Stream and he had gone\n",
        "eighty-four days now without taking a fish. In the first forty days a boy had been with him.\n",
        "But after forty days without a fish the boy’s parents had told him that the old man was\n",
        "now definitely and finally salao, which is the worst form of unlucky, and the boy had gone\n",
        "at their orders in another boat which caught three good fish the first week. It made the\n",
        "boy sad to see the old man come in each day with his skiff empty and he always went\n",
        "down to help him carry either the coiled lines or the gaff and harpoon and the sail that\n",
        "was furled around the mast. The sail was patched with flour sacks and, furled, it looked\n",
        "like the flag of permanent defeat. ]\n",
        "Example:\n",
        "To be, or not to be, that is the question:\n",
        "Whether 'tis nobler in the mind to suffer\n",
        "The slings and arrows of outrageous fortune...\n",
        "\"\"\""
      ]
    },
    {
      "cell_type": "markdown",
      "metadata": {
        "id": "h0R3yjPWefa2"
      },
      "source": [
        "3. Advanced Implementation:\n",
        "   Add temperature-based sampling to control randomness"
      ]
    },
    {
      "cell_type": "code",
      "execution_count": 17,
      "metadata": {
        "id": "lwLygDAtefa2",
        "outputId": "fed7121a-994e-477a-ad94-0732aca9319d",
        "colab": {
          "base_uri": "https://localhost:8080/"
        }
      },
      "outputs": [
        {
          "output_type": "stream",
          "name": "stdout",
          "text": [
            "\n",
            "Low temperature (more predictable):\n",
            "days a boy had been with him. But after forty days a boy had gone at their orders in another boat which caught three good fish the first forty days\n",
            "\n",
            "High temperature (more random):\n",
            "and harpoon and the boy had been with him. But after forty days a boy had been with him. But after forty days a boy had gone at their orders\n"
          ]
        }
      ],
      "source": [
        "def generate_text_with_temperature(chain, temperature=1.0, num_words=30):\n",
        "    \"\"\"\n",
        "    Generate text with temperature-based sampling.\n",
        "    Lower temperature = more conservative/predictable\n",
        "    Higher temperature = more random/creative\n",
        "\n",
        "    Args:\n",
        "        chain (dict): Markov chain\n",
        "        temperature (float): Controls randomness (0.1 to 2.0 recommended)\n",
        "        order (int): Length of state tuples\n",
        "        num_words (int): Number of words to generate\n",
        "    \"\"\"\n",
        "    words = list(random.choice(list(chain.keys())))\n",
        "    order = len(list(chain.keys())[0])\n",
        "\n",
        "    for _ in range(num_words - order):\n",
        "        state = tuple(words[-order:])\n",
        "        if state in chain:\n",
        "            # Count frequencies of next words\n",
        "            next_words = chain[state]\n",
        "            word_counts = defaultdict(int)\n",
        "            for word in next_words:\n",
        "                word_counts[word] += 1\n",
        "\n",
        "            # Apply temperature\n",
        "            weights = [count ** (1.0 / temperature) for count in word_counts.values()]\n",
        "            total = sum(weights)\n",
        "            weights = [w/total for w in weights]\n",
        "\n",
        "            # Choose next word based on weighted probabilities\n",
        "            next_word = random.choices(list(word_counts.keys()), weights=weights)[0]\n",
        "            words.append(next_word)\n",
        "        else:\n",
        "            break\n",
        "\n",
        "    return ' '.join(words)\n",
        "\n",
        "# Try different temperatures\n",
        "print(\"\\nLow temperature (more predictable):\")\n",
        "print(generate_text_with_temperature(chain, temperature=0.3))\n",
        "\n",
        "print(\"\\nHigh temperature (more random):\")\n",
        "print(generate_text_with_temperature(chain, temperature=2.0))"
      ]
    },
    {
      "cell_type": "markdown",
      "metadata": {
        "id": "bBFYrozaefa2"
      },
      "source": [
        "## Challenge Tasks:\n",
        "\n",
        "1. Implement a function to analyze the Markov chain:\n",
        "   - Count the number of unique states\n",
        "   - Find the most common transitions\n",
        "   - Calculate the average number of possible next words for each state"
      ]
    },
    {
      "cell_type": "code",
      "execution_count": 18,
      "metadata": {
        "id": "SqQiW3A4efa2",
        "outputId": "37f25c95-0139-47cf-a79a-cac707f8441d",
        "colab": {
          "base_uri": "https://localhost:8080/"
        }
      },
      "outputs": [
        {
          "output_type": "stream",
          "name": "stdout",
          "text": [
            "\n",
            "Chain Analysis:\n",
            "Number of unique states: 135\n",
            "Average transitions per state: 1.08\n",
            "\n",
            "Most common transitions:\n",
            "He was -> an (count: 1)\n",
            "was an -> old (count: 1)\n",
            "an old -> man (count: 1)\n",
            "old man -> who (count: 1)\n",
            "man who -> fished (count: 1)\n"
          ]
        }
      ],
      "source": [
        "def analyze_chain(chain):\n",
        "    \"\"\"\n",
        "    Analyze properties of the Markov chain.\n",
        "\n",
        "    Args:\n",
        "        chain (dict): Markov chain to analyze\n",
        "    \"\"\"\n",
        "    num_states = len(chain)\n",
        "    total_transitions = sum(len(next_words) for next_words in chain.values())\n",
        "    avg_transitions = total_transitions / num_states if num_states > 0 else 0\n",
        "\n",
        "    # Find most common next word for each state\n",
        "    most_common = {}\n",
        "    for state, next_words in chain.items():\n",
        "        word_counts = defaultdict(int)\n",
        "        for word in next_words:\n",
        "            word_counts[word] += 1\n",
        "        most_common[state] = max(word_counts.items(), key=lambda x: x[1])\n",
        "\n",
        "    print(f\"Number of unique states: {num_states}\")\n",
        "    print(f\"Average transitions per state: {avg_transitions:.2f}\")\n",
        "    print(\"\\nMost common transitions:\")\n",
        "    for state, (word, count) in list(most_common.items())[:5]:  # Show top 5\n",
        "        print(f\"{' '.join(state)} -> {word} (count: {count})\")\n",
        "\n",
        "# Analyze our chain\n",
        "print(\"\\nChain Analysis:\")\n",
        "analyze_chain(chain)"
      ]
    },
    {
      "cell_type": "markdown",
      "metadata": {
        "id": "63cui10eefa2"
      },
      "source": [
        "## Further Exploration:\n",
        "\n",
        "Other ideas to try:\n",
        "1. Modify the code to preserve punctuation\n",
        "2. Add start-of-sentence and end-of-sentence tokens\n",
        "3. Implement bi-directional generation\n",
        "4. Create a chain that works with characters instead of words\n",
        "5. Add input validation and error handling"
      ]
    }
  ],
  "metadata": {
    "kernelspec": {
      "display_name": "iat460",
      "language": "python",
      "name": "python3"
    },
    "language_info": {
      "codemirror_mode": {
        "name": "ipython",
        "version": 3
      },
      "file_extension": ".py",
      "mimetype": "text/x-python",
      "name": "python",
      "nbconvert_exporter": "python",
      "pygments_lexer": "ipython3",
      "version": "3.9.21"
    },
    "colab": {
      "provenance": []
    }
  },
  "nbformat": 4,
  "nbformat_minor": 0
}